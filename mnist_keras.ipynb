{
 "cells": [
  {
   "metadata": {},
   "cell_type": "markdown",
   "source": [
    "# DEEP LEARNING FOR COMPUTER VISION\n",
    "## CHAPTER 2: IMAGE CLASSIFICATION\n",
    "### Related pages: 37 to 53\n",
    "#### PC Environment (Reference: page 28 to 31)\n",
    "1. Windows 11 Pro OS\n",
    "2. AMD RYZEN 7 5700X3D CPU\n",
    "3. 32 GB DDR4 3200 MHz RAM\n",
    "4. NVIDIA RTX 4070 SUPER GPU (Unsupported. Using TensorFlow CPU Compute)\n",
    "5. NVIDIA CUDA 12.8 (Unsupported. Using TensorFlow CPU Compute)\n",
    "6. Python 3.7.8\n",
    "7. JetBrains PyCharm IDE\n",
    "8. `pip install numpy scipy scikit-learn pillow h5py`\n",
    "9. OpenCV 4.12.0 download: https://github.com/opencv/opencv/releases\n",
    "10. How to set up for OpenCV Python on Windows: https://docs.opencv.org/4.x/d5/de5/tutorial_py_setup_in_windows.html\n",
    "11. `pip install tensorflow==1.14.0`\n",
    "12. `pip install protobuf==3.20.1`\n",
    "13. `pip install tensorflow-gpu==1.14.0` (RTX 20 series only are supported)\n",
    "14. Install CUDA 10.0 and CUDNN for CUDA 10.0 (RTX 20 series only are supported)\n",
    "\n",
    "Dataset: MNIST"
   ],
   "id": "8a77807f92f26ee"
  },
  {
   "metadata": {},
   "cell_type": "markdown",
   "source": "## MNIST Multilayer Convolutional Network (CNN)",
   "id": "f654e9ed33702429"
  },
  {
   "metadata": {
    "ExecuteTime": {
     "end_time": "2025-10-16T00:52:55.957790Z",
     "start_time": "2025-10-16T00:52:51.787565Z"
    }
   },
   "cell_type": "code",
   "source": [
    "# SECTION IMPORT LIBS\n",
    "import tensorflow as tf"
   ],
   "id": "806509ba1917edce",
   "outputs": [
    {
     "name": "stderr",
     "output_type": "stream",
     "text": [
      "C:\\Users\\User\\.virtualenvs\\.venv\\lib\\site-packages\\tensorflow\\python\\framework\\dtypes.py:516: FutureWarning: Passing (type, 1) or '1type' as a synonym of type is deprecated; in a future version of numpy, it will be understood as (type, (1,)) / '(1,)type'.\n",
      "  _np_qint8 = np.dtype([(\"qint8\", np.int8, 1)])\n",
      "C:\\Users\\User\\.virtualenvs\\.venv\\lib\\site-packages\\tensorflow\\python\\framework\\dtypes.py:517: FutureWarning: Passing (type, 1) or '1type' as a synonym of type is deprecated; in a future version of numpy, it will be understood as (type, (1,)) / '(1,)type'.\n",
      "  _np_quint8 = np.dtype([(\"quint8\", np.uint8, 1)])\n",
      "C:\\Users\\User\\.virtualenvs\\.venv\\lib\\site-packages\\tensorflow\\python\\framework\\dtypes.py:518: FutureWarning: Passing (type, 1) or '1type' as a synonym of type is deprecated; in a future version of numpy, it will be understood as (type, (1,)) / '(1,)type'.\n",
      "  _np_qint16 = np.dtype([(\"qint16\", np.int16, 1)])\n",
      "C:\\Users\\User\\.virtualenvs\\.venv\\lib\\site-packages\\tensorflow\\python\\framework\\dtypes.py:519: FutureWarning: Passing (type, 1) or '1type' as a synonym of type is deprecated; in a future version of numpy, it will be understood as (type, (1,)) / '(1,)type'.\n",
      "  _np_quint16 = np.dtype([(\"quint16\", np.uint16, 1)])\n",
      "C:\\Users\\User\\.virtualenvs\\.venv\\lib\\site-packages\\tensorflow\\python\\framework\\dtypes.py:520: FutureWarning: Passing (type, 1) or '1type' as a synonym of type is deprecated; in a future version of numpy, it will be understood as (type, (1,)) / '(1,)type'.\n",
      "  _np_qint32 = np.dtype([(\"qint32\", np.int32, 1)])\n",
      "C:\\Users\\User\\.virtualenvs\\.venv\\lib\\site-packages\\tensorflow\\python\\framework\\dtypes.py:525: FutureWarning: Passing (type, 1) or '1type' as a synonym of type is deprecated; in a future version of numpy, it will be understood as (type, (1,)) / '(1,)type'.\n",
      "  np_resource = np.dtype([(\"resource\", np.ubyte, 1)])\n",
      "C:\\Users\\User\\.virtualenvs\\.venv\\lib\\site-packages\\tensorboard\\compat\\tensorflow_stub\\dtypes.py:541: FutureWarning: Passing (type, 1) or '1type' as a synonym of type is deprecated; in a future version of numpy, it will be understood as (type, (1,)) / '(1,)type'.\n",
      "  _np_qint8 = np.dtype([(\"qint8\", np.int8, 1)])\n",
      "C:\\Users\\User\\.virtualenvs\\.venv\\lib\\site-packages\\tensorboard\\compat\\tensorflow_stub\\dtypes.py:542: FutureWarning: Passing (type, 1) or '1type' as a synonym of type is deprecated; in a future version of numpy, it will be understood as (type, (1,)) / '(1,)type'.\n",
      "  _np_quint8 = np.dtype([(\"quint8\", np.uint8, 1)])\n",
      "C:\\Users\\User\\.virtualenvs\\.venv\\lib\\site-packages\\tensorboard\\compat\\tensorflow_stub\\dtypes.py:543: FutureWarning: Passing (type, 1) or '1type' as a synonym of type is deprecated; in a future version of numpy, it will be understood as (type, (1,)) / '(1,)type'.\n",
      "  _np_qint16 = np.dtype([(\"qint16\", np.int16, 1)])\n",
      "C:\\Users\\User\\.virtualenvs\\.venv\\lib\\site-packages\\tensorboard\\compat\\tensorflow_stub\\dtypes.py:544: FutureWarning: Passing (type, 1) or '1type' as a synonym of type is deprecated; in a future version of numpy, it will be understood as (type, (1,)) / '(1,)type'.\n",
      "  _np_quint16 = np.dtype([(\"quint16\", np.uint16, 1)])\n",
      "C:\\Users\\User\\.virtualenvs\\.venv\\lib\\site-packages\\tensorboard\\compat\\tensorflow_stub\\dtypes.py:545: FutureWarning: Passing (type, 1) or '1type' as a synonym of type is deprecated; in a future version of numpy, it will be understood as (type, (1,)) / '(1,)type'.\n",
      "  _np_qint32 = np.dtype([(\"qint32\", np.int32, 1)])\n",
      "C:\\Users\\User\\.virtualenvs\\.venv\\lib\\site-packages\\tensorboard\\compat\\tensorflow_stub\\dtypes.py:550: FutureWarning: Passing (type, 1) or '1type' as a synonym of type is deprecated; in a future version of numpy, it will be understood as (type, (1,)) / '(1,)type'.\n",
      "  np_resource = np.dtype([(\"resource\", np.ubyte, 1)])\n"
     ]
    }
   ],
   "execution_count": 1
  },
  {
   "metadata": {
    "ExecuteTime": {
     "end_time": "2025-10-16T00:53:04.275046Z",
     "start_time": "2025-10-16T00:53:04.261989Z"
    }
   },
   "cell_type": "code",
   "source": [
    "# SECTION DEFINE PARAMS\n",
    "batch_size = 128\n",
    "no_classes = 10\n",
    "epochs = 50\n",
    "image_height, image_width = 28, 28"
   ],
   "id": "73e2e9173ac3f99e",
   "outputs": [],
   "execution_count": 2
  },
  {
   "metadata": {
    "ExecuteTime": {
     "end_time": "2025-10-16T00:53:06.375630Z",
     "start_time": "2025-10-16T00:53:06.163780Z"
    }
   },
   "cell_type": "code",
   "source": [
    "# SECTION LOAD DATASET VIA KERAS\n",
    "(x_train, y_train), (x_test, y_test) = tf.keras.datasets.mnist.load_data()"
   ],
   "id": "d7a9a16c821d992e",
   "outputs": [],
   "execution_count": 3
  },
  {
   "metadata": {
    "ExecuteTime": {
     "end_time": "2025-10-16T00:53:08.457593Z",
     "start_time": "2025-10-16T00:53:08.383355Z"
    }
   },
   "cell_type": "code",
   "source": [
    "# SECTION Reshape vector into image format, define input dimension for the convolution.\n",
    "x_train = x_train.reshape(x_train.shape[0], image_height, image_width, 1)\n",
    "x_test = x_test.reshape(x_test.shape[0], image_height, image_width, 1)\n",
    "input_shape = (image_height, image_width, 1)\n",
    "\n",
    "# Convert datatype to float\n",
    "x_train = x_train.astype('float32')\n",
    "x_test = x_test.astype('float32')\n",
    "\n",
    "# Normalize data by subtracting the mean of the data\n",
    "x_train /= 255\n",
    "x_test /= 255\n",
    "\n",
    "# Convert categorical labels to one-shot encoding\n",
    "y_train = tf.keras.utils.to_categorical(y_train, no_classes)\n",
    "y_test = tf.keras.utils.to_categorical(y_test, no_classes)"
   ],
   "id": "4d7a5b10f95b0732",
   "outputs": [],
   "execution_count": 4
  },
  {
   "metadata": {
    "ExecuteTime": {
     "end_time": "2025-10-16T00:53:12.893153Z",
     "start_time": "2025-10-16T00:53:12.776848Z"
    }
   },
   "cell_type": "code",
   "source": [
    "# SECTION Define method to create a simple sequential model with:\n",
    "# 1. 2 convolution layers\n",
    "# 2. Pooling layer\n",
    "# 3. Dropout layer\n",
    "# 4. Dense layer\n",
    "def simple_cnn(shape) -> tf.keras.models.Sequential:\n",
    "    model = tf.keras.models.Sequential()\n",
    "    model.add(tf.keras.layers.Conv2D(\n",
    "        filters=64,\n",
    "        kernel_size=(3, 3),\n",
    "        activation='relu',\n",
    "        input_shape=shape\n",
    "    ))\n",
    "    model.add(tf.keras.layers.Conv2D(\n",
    "        filters=128,\n",
    "        kernel_size=(3, 3),\n",
    "        activation='relu'\n",
    "    ))\n",
    "    model.add(tf.keras.layers.MaxPooling2D(pool_size=(2, 2)))\n",
    "    model.add(tf.keras.layers.Dropout(rate=0.3))\n",
    "    model.add(tf.keras.layers.Flatten())\n",
    "    model.add(tf.keras.layers.Dense(units=1024, activation='relu'))\n",
    "    model.add(tf.keras.layers.Dropout(rate=0.3))\n",
    "    model.add(tf.keras.layers.Dense(units=no_classes, activation='softmax'))\n",
    "    model.compile(loss=tf.keras.losses.categorical_crossentropy,\n",
    "                  optimizer=tf.keras.optimizers.Adam(),\n",
    "                  metrics=['accuracy'])\n",
    "    return model\n",
    "\n",
    "# Create the sequential model\n",
    "simple_cnn_model = simple_cnn(input_shape)"
   ],
   "id": "d6ba47b87a2803ad",
   "outputs": [
    {
     "name": "stdout",
     "output_type": "stream",
     "text": [
      "WARNING:tensorflow:From C:\\Users\\User\\.virtualenvs\\.venv\\lib\\site-packages\\tensorflow\\python\\ops\\init_ops.py:1251: calling VarianceScaling.__init__ (from tensorflow.python.ops.init_ops) with dtype is deprecated and will be removed in a future version.\n",
      "Instructions for updating:\n",
      "Call initializer instance with the dtype argument instead of passing it to the constructor\n"
     ]
    }
   ],
   "execution_count": 5
  },
  {
   "metadata": {
    "ExecuteTime": {
     "end_time": "2025-10-16T01:55:19.802679Z",
     "start_time": "2025-10-16T00:53:19.067014Z"
    }
   },
   "cell_type": "code",
   "source": [
    "# Compile the model\n",
    "# Train and evaluate the loaded training data with the training parameters.\n",
    "# Fit the model.\n",
    "simple_cnn_model.fit(\n",
    "    x_train, y_train,\n",
    "    batch_size=batch_size,\n",
    "    epochs=epochs,\n",
    "    validation_data=(x_test, y_test)\n",
    ")\n",
    "train_loss, train_accuracy = simple_cnn_model.evaluate(\n",
    "    x_train, y_train,\n",
    "    verbose=0\n",
    ")\n",
    "print('Train data loss:', train_loss)\n",
    "print('Train data accuracy:', train_accuracy)\n",
    "# Evaluate the test data.\n",
    "test_loss, test_accuracy = simple_cnn_model.evaluate(\n",
    "    x_test, y_test,\n",
    "    verbose=0\n",
    ")\n",
    "print('Test data loss:', test_loss)\n",
    "print('Test data accuracy:', test_accuracy)"
   ],
   "id": "86e2c19202602c5",
   "outputs": [
    {
     "name": "stdout",
     "output_type": "stream",
     "text": [
      "Train on 60000 samples, validate on 10000 samples\n",
      "Epoch 1/50\n",
      "60000/60000 [==============================] - 75s 1ms/sample - loss: 0.1215 - acc: 0.9624 - val_loss: 0.0490 - val_acc: 0.9850\n",
      "Epoch 2/50\n",
      "60000/60000 [==============================] - 75s 1ms/sample - loss: 0.0387 - acc: 0.9882 - val_loss: 0.0294 - val_acc: 0.9907\n",
      "Epoch 3/50\n",
      "60000/60000 [==============================] - 76s 1ms/sample - loss: 0.0277 - acc: 0.9913 - val_loss: 0.0272 - val_acc: 0.9909\n",
      "Epoch 4/50\n",
      "60000/60000 [==============================] - 75s 1ms/sample - loss: 0.0181 - acc: 0.9938 - val_loss: 0.0286 - val_acc: 0.9911\n",
      "Epoch 5/50\n",
      "60000/60000 [==============================] - 74s 1ms/sample - loss: 0.0143 - acc: 0.9953 - val_loss: 0.0305 - val_acc: 0.9910\n",
      "Epoch 6/50\n",
      "60000/60000 [==============================] - 74s 1ms/sample - loss: 0.0121 - acc: 0.9959 - val_loss: 0.0311 - val_acc: 0.9913\n",
      "Epoch 7/50\n",
      "60000/60000 [==============================] - 74s 1ms/sample - loss: 0.0091 - acc: 0.9968 - val_loss: 0.0390 - val_acc: 0.9900\n",
      "Epoch 8/50\n",
      "60000/60000 [==============================] - 74s 1ms/sample - loss: 0.0094 - acc: 0.9966 - val_loss: 0.0279 - val_acc: 0.9919\n",
      "Epoch 9/50\n",
      "60000/60000 [==============================] - 76s 1ms/sample - loss: 0.0084 - acc: 0.9974 - val_loss: 0.0310 - val_acc: 0.9909\n",
      "Epoch 10/50\n",
      "60000/60000 [==============================] - 74s 1ms/sample - loss: 0.0058 - acc: 0.9981 - val_loss: 0.0315 - val_acc: 0.9913\n",
      "Epoch 11/50\n",
      "60000/60000 [==============================] - 74s 1ms/sample - loss: 0.0066 - acc: 0.9979 - val_loss: 0.0388 - val_acc: 0.9912\n",
      "Epoch 12/50\n",
      "60000/60000 [==============================] - 74s 1ms/sample - loss: 0.0063 - acc: 0.9980 - val_loss: 0.0331 - val_acc: 0.9922\n",
      "Epoch 13/50\n",
      "60000/60000 [==============================] - 74s 1ms/sample - loss: 0.0055 - acc: 0.9981 - val_loss: 0.0387 - val_acc: 0.9909\n",
      "Epoch 14/50\n",
      "60000/60000 [==============================] - 75s 1ms/sample - loss: 0.0063 - acc: 0.9981 - val_loss: 0.0440 - val_acc: 0.9898\n",
      "Epoch 15/50\n",
      "60000/60000 [==============================] - 73s 1ms/sample - loss: 0.0054 - acc: 0.9982 - val_loss: 0.0342 - val_acc: 0.9921\n",
      "Epoch 16/50\n",
      "60000/60000 [==============================] - 72s 1ms/sample - loss: 0.0051 - acc: 0.9984 - val_loss: 0.0412 - val_acc: 0.9906\n",
      "Epoch 17/50\n",
      "60000/60000 [==============================] - 73s 1ms/sample - loss: 0.0039 - acc: 0.9987 - val_loss: 0.0455 - val_acc: 0.9907\n",
      "Epoch 18/50\n",
      "60000/60000 [==============================] - 74s 1ms/sample - loss: 0.0051 - acc: 0.9984 - val_loss: 0.0467 - val_acc: 0.9903\n",
      "Epoch 19/50\n",
      "60000/60000 [==============================] - 74s 1ms/sample - loss: 0.0032 - acc: 0.9989 - val_loss: 0.0419 - val_acc: 0.9914\n",
      "Epoch 20/50\n",
      "60000/60000 [==============================] - 73s 1ms/sample - loss: 0.0052 - acc: 0.9982 - val_loss: 0.0427 - val_acc: 0.9913\n",
      "Epoch 21/50\n",
      "60000/60000 [==============================] - 74s 1ms/sample - loss: 0.0037 - acc: 0.9988 - val_loss: 0.0416 - val_acc: 0.9922\n",
      "Epoch 22/50\n",
      "60000/60000 [==============================] - 73s 1ms/sample - loss: 0.0035 - acc: 0.9990 - val_loss: 0.0669 - val_acc: 0.9884\n",
      "Epoch 23/50\n",
      "60000/60000 [==============================] - 74s 1ms/sample - loss: 0.0029 - acc: 0.9991 - val_loss: 0.0559 - val_acc: 0.9903\n",
      "Epoch 24/50\n",
      "60000/60000 [==============================] - 73s 1ms/sample - loss: 0.0036 - acc: 0.9991 - val_loss: 0.0566 - val_acc: 0.9915\n",
      "Epoch 25/50\n",
      "60000/60000 [==============================] - 73s 1ms/sample - loss: 0.0039 - acc: 0.9989 - val_loss: 0.0513 - val_acc: 0.9910\n",
      "Epoch 26/50\n",
      "60000/60000 [==============================] - 74s 1ms/sample - loss: 0.0032 - acc: 0.9991 - val_loss: 0.0540 - val_acc: 0.9920\n",
      "Epoch 27/50\n",
      "60000/60000 [==============================] - 73s 1ms/sample - loss: 0.0036 - acc: 0.9988 - val_loss: 0.0575 - val_acc: 0.9901\n",
      "Epoch 28/50\n",
      "60000/60000 [==============================] - 74s 1ms/sample - loss: 0.0042 - acc: 0.9987 - val_loss: 0.0642 - val_acc: 0.9900\n",
      "Epoch 29/50\n",
      "60000/60000 [==============================] - 74s 1ms/sample - loss: 0.0024 - acc: 0.9994 - val_loss: 0.0582 - val_acc: 0.9895\n",
      "Epoch 30/50\n",
      "60000/60000 [==============================] - 74s 1ms/sample - loss: 0.0049 - acc: 0.9986 - val_loss: 0.0585 - val_acc: 0.9911\n",
      "Epoch 31/50\n",
      "60000/60000 [==============================] - 73s 1ms/sample - loss: 0.0024 - acc: 0.9993 - val_loss: 0.0573 - val_acc: 0.9915\n",
      "Epoch 32/50\n",
      "60000/60000 [==============================] - 74s 1ms/sample - loss: 0.0013 - acc: 0.9995 - val_loss: 0.0566 - val_acc: 0.9914\n",
      "Epoch 33/50\n",
      "60000/60000 [==============================] - 74s 1ms/sample - loss: 0.0020 - acc: 0.9994 - val_loss: 0.0621 - val_acc: 0.9921\n",
      "Epoch 34/50\n",
      "60000/60000 [==============================] - 74s 1ms/sample - loss: 0.0040 - acc: 0.9988 - val_loss: 0.0788 - val_acc: 0.9908\n",
      "Epoch 35/50\n",
      "60000/60000 [==============================] - 74s 1ms/sample - loss: 0.0038 - acc: 0.9989 - val_loss: 0.0571 - val_acc: 0.9913\n",
      "Epoch 36/50\n",
      "60000/60000 [==============================] - 74s 1ms/sample - loss: 0.0031 - acc: 0.9992 - val_loss: 0.0614 - val_acc: 0.9920\n",
      "Epoch 37/50\n",
      "60000/60000 [==============================] - 74s 1ms/sample - loss: 0.0031 - acc: 0.9993 - val_loss: 0.0561 - val_acc: 0.9909\n",
      "Epoch 38/50\n",
      "60000/60000 [==============================] - 74s 1ms/sample - loss: 0.0025 - acc: 0.9993 - val_loss: 0.0517 - val_acc: 0.9926\n",
      "Epoch 39/50\n",
      "60000/60000 [==============================] - 74s 1ms/sample - loss: 0.0027 - acc: 0.9993 - val_loss: 0.0628 - val_acc: 0.9926\n",
      "Epoch 40/50\n",
      "60000/60000 [==============================] - 74s 1ms/sample - loss: 0.0034 - acc: 0.9991 - val_loss: 0.0615 - val_acc: 0.9913\n",
      "Epoch 41/50\n",
      "60000/60000 [==============================] - 74s 1ms/sample - loss: 0.0026 - acc: 0.9994 - val_loss: 0.0595 - val_acc: 0.9926\n",
      "Epoch 42/50\n",
      "60000/60000 [==============================] - 75s 1ms/sample - loss: 0.0015 - acc: 0.9995 - val_loss: 0.0890 - val_acc: 0.9892\n",
      "Epoch 43/50\n",
      "60000/60000 [==============================] - 74s 1ms/sample - loss: 0.0023 - acc: 0.9995 - val_loss: 0.0759 - val_acc: 0.9918\n",
      "Epoch 44/50\n",
      "60000/60000 [==============================] - 74s 1ms/sample - loss: 0.0042 - acc: 0.9991 - val_loss: 0.0783 - val_acc: 0.9911\n",
      "Epoch 45/50\n",
      "60000/60000 [==============================] - 74s 1ms/sample - loss: 0.0028 - acc: 0.9992 - val_loss: 0.0821 - val_acc: 0.9916\n",
      "Epoch 46/50\n",
      "60000/60000 [==============================] - 74s 1ms/sample - loss: 0.0021 - acc: 0.9995 - val_loss: 0.0722 - val_acc: 0.9918\n",
      "Epoch 47/50\n",
      "60000/60000 [==============================] - 74s 1ms/sample - loss: 0.0032 - acc: 0.9993 - val_loss: 0.0785 - val_acc: 0.9925\n",
      "Epoch 48/50\n",
      "60000/60000 [==============================] - 74s 1ms/sample - loss: 0.0039 - acc: 0.9992 - val_loss: 0.0693 - val_acc: 0.9913\n",
      "Epoch 49/50\n",
      "60000/60000 [==============================] - 74s 1ms/sample - loss: 0.0036 - acc: 0.9991 - val_loss: 0.0733 - val_acc: 0.9920\n",
      "Epoch 50/50\n",
      "60000/60000 [==============================] - 74s 1ms/sample - loss: 0.0022 - acc: 0.9994 - val_loss: 0.0887 - val_acc: 0.9903\n",
      "Train data loss: 0.00026652659832455483\n",
      "Train data accuracy: 0.9999167\n",
      "Test data loss: 0.08872211070482514\n",
      "Test data accuracy: 0.9903\n"
     ]
    }
   ],
   "execution_count": 6
  }
 ],
 "metadata": {
  "kernelspec": {
   "display_name": "Python 3",
   "language": "python",
   "name": "python3"
  },
  "language_info": {
   "codemirror_mode": {
    "name": "ipython",
    "version": 2
   },
   "file_extension": ".py",
   "mimetype": "text/x-python",
   "name": "python",
   "nbconvert_exporter": "python",
   "pygments_lexer": "ipython2",
   "version": "2.7.6"
  }
 },
 "nbformat": 4,
 "nbformat_minor": 5
}
